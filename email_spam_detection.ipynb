{
 "cells": [
  {
   "cell_type": "markdown",
   "id": "0d0e783c-dff9-40a4-9137-e268d65b3fd6",
   "metadata": {},
   "source": [
    "# Load and Explore Data with ML + NLP \n",
    " "
   ]
  },
  {
   "cell_type": "code",
   "execution_count": 30,
   "id": "81897bb1-ba09-4a9a-83f0-a5668a8c6692",
   "metadata": {},
   "outputs": [
    {
     "name": "stdout",
     "output_type": "stream",
     "text": [
      "  label                                               text\n",
      "0   ham  Go until jurong point, crazy.. Available only ...\n",
      "1   ham                      Ok lar... Joking wif u oni...\n",
      "2  spam  Free entry in 2 a wkly comp to win FA Cup fina...\n",
      "3   ham  U dun say so early hor... U c already then say...\n",
      "4   ham  Nah I don't think he goes to usf, he lives aro...\n",
      "5  spam  FreeMsg Hey there darling it's been 3 week's n...\n",
      "6   ham  Even my brother is not like to speak with me. ...\n",
      "7   ham  As per your request 'Melle Melle (Oru Minnamin...\n",
      "8  spam  WINNER!! As a valued network customer you have...\n",
      "9  spam  Had your mobile 11 months or more? U R entitle...\n"
     ]
    }
   ],
   "source": [
    "import pandas as pd\n",
    "\n",
    "# Load dataset\n",
    "df = pd.read_csv(\"spam.csv\", encoding='latin-1')\n",
    "df = df[['v1', 'v2']]\n",
    "df.columns = ['label', 'text']\n",
    "\n",
    "# View first 5 rows\n",
    "print(df.head(10))\n",
    "\n"
   ]
  },
  {
   "cell_type": "code",
   "execution_count": 2,
   "id": "5c32b2ee-726a-4d6b-a8d5-fe8df76ff19f",
   "metadata": {},
   "outputs": [
    {
     "data": {
      "text/html": [
       "<div>\n",
       "<style scoped>\n",
       "    .dataframe tbody tr th:only-of-type {\n",
       "        vertical-align: middle;\n",
       "    }\n",
       "\n",
       "    .dataframe tbody tr th {\n",
       "        vertical-align: top;\n",
       "    }\n",
       "\n",
       "    .dataframe thead th {\n",
       "        text-align: right;\n",
       "    }\n",
       "</style>\n",
       "<table border=\"1\" class=\"dataframe\">\n",
       "  <thead>\n",
       "    <tr style=\"text-align: right;\">\n",
       "      <th></th>\n",
       "      <th>label</th>\n",
       "      <th>text</th>\n",
       "    </tr>\n",
       "  </thead>\n",
       "  <tbody>\n",
       "    <tr>\n",
       "      <th>0</th>\n",
       "      <td>0</td>\n",
       "      <td>Go until jurong point, crazy.. Available only ...</td>\n",
       "    </tr>\n",
       "    <tr>\n",
       "      <th>1</th>\n",
       "      <td>0</td>\n",
       "      <td>Ok lar... Joking wif u oni...</td>\n",
       "    </tr>\n",
       "    <tr>\n",
       "      <th>2</th>\n",
       "      <td>1</td>\n",
       "      <td>Free entry in 2 a wkly comp to win FA Cup fina...</td>\n",
       "    </tr>\n",
       "    <tr>\n",
       "      <th>3</th>\n",
       "      <td>0</td>\n",
       "      <td>U dun say so early hor... U c already then say...</td>\n",
       "    </tr>\n",
       "    <tr>\n",
       "      <th>4</th>\n",
       "      <td>0</td>\n",
       "      <td>Nah I don't think he goes to usf, he lives aro...</td>\n",
       "    </tr>\n",
       "  </tbody>\n",
       "</table>\n",
       "</div>"
      ],
      "text/plain": [
       "   label                                               text\n",
       "0      0  Go until jurong point, crazy.. Available only ...\n",
       "1      0                      Ok lar... Joking wif u oni...\n",
       "2      1  Free entry in 2 a wkly comp to win FA Cup fina...\n",
       "3      0  U dun say so early hor... U c already then say...\n",
       "4      0  Nah I don't think he goes to usf, he lives aro..."
      ]
     },
     "execution_count": 2,
     "metadata": {},
     "output_type": "execute_result"
    }
   ],
   "source": [
    "#Data Preprocessing\n",
    "from sklearn.preprocessing import LabelEncoder\n",
    "\n",
    "le = LabelEncoder()\n",
    "df['label'] = le.fit_transform(df['label'])  # spam = 1, ham = 0\n",
    "df.head()\n"
   ]
  },
  {
   "cell_type": "code",
   "execution_count": 9,
   "id": "81c24e2a-85d2-4903-8c34-171a6eed848b",
   "metadata": {},
   "outputs": [
    {
     "name": "stderr",
     "output_type": "stream",
     "text": [
      "[nltk_data] Downloading package punkt to\n",
      "[nltk_data]     C:\\Users\\karti\\AppData\\Roaming\\nltk_data...\n",
      "[nltk_data]   Package punkt is already up-to-date!\n",
      "[nltk_data] Downloading package stopwords to\n",
      "[nltk_data]     C:\\Users\\karti\\AppData\\Roaming\\nltk_data...\n",
      "[nltk_data]   Package stopwords is already up-to-date!\n",
      "[nltk_data] Downloading package wordnet to\n",
      "[nltk_data]     C:\\Users\\karti\\AppData\\Roaming\\nltk_data...\n",
      "[nltk_data]   Package wordnet is already up-to-date!\n",
      "[nltk_data] Downloading package omw-1.4 to\n",
      "[nltk_data]     C:\\Users\\karti\\AppData\\Roaming\\nltk_data...\n",
      "[nltk_data]   Package omw-1.4 is already up-to-date!\n"
     ]
    }
   ],
   "source": [
    "# NLP Preprocessing \n",
    "import nltk\n",
    "import string\n",
    "from nltk.corpus import stopwords\n",
    "from nltk.stem import WordNetLemmatizer\n",
    "import re\n",
    "\n",
    "\n",
    "\n",
    "\n",
    "# Download all required resources\n",
    "nltk.download('punkt')         # For tokenization\n",
    "nltk.download('stopwords')     # For removing common words\n",
    "nltk.download('wordnet')       # For lemmatization\n",
    "nltk.download('omw-1.4')       # WordNet helper data\n",
    "\n",
    "\n",
    "stop_words = set(stopwords.words('english'))\n",
    "lemmatizer = WordNetLemmatizer()"
   ]
  },
  {
   "cell_type": "code",
   "execution_count": 11,
   "id": "dc268cb3-d7f5-41fe-b656-95373990711d",
   "metadata": {},
   "outputs": [],
   "source": [
    "\n",
    "\n",
    "\n",
    "def clean_text(text):\n",
    "    text = text.lower()\n",
    "    text = re.sub(r\"http\\S+|www\\S+\", '', text)\n",
    "    text = re.sub(r'[^a-z\\s]', '', text)\n",
    "    tokens = text.split()  # simpler tokenizer\n",
    "    tokens = [lemmatizer.lemmatize(w) for w in tokens if w not in stop_words]\n",
    "    return ' '.join(tokens)\n"
   ]
  },
  {
   "cell_type": "code",
   "execution_count": 15,
   "id": "c4156555-fcaa-4ce7-8069-4ec1864594bf",
   "metadata": {},
   "outputs": [
    {
     "data": {
      "text/plain": [
       "0       go jurong point crazy available bugis n great ...\n",
       "1                                 ok lar joking wif u oni\n",
       "2       free entry wkly comp win fa cup final tkts st ...\n",
       "3                     u dun say early hor u c already say\n",
       "4                nah dont think go usf life around though\n",
       "                              ...                        \n",
       "5567    nd time tried contact u u pound prize claim ea...\n",
       "5568                            b going esplanade fr home\n",
       "5569                           pity mood soany suggestion\n",
       "5570    guy bitching acted like id interested buying s...\n",
       "5571                                       rofl true name\n",
       "Name: clean_text, Length: 5572, dtype: object"
      ]
     },
     "execution_count": 15,
     "metadata": {},
     "output_type": "execute_result"
    }
   ],
   "source": [
    "# clean text col \n",
    "df['clean_text'] = df['text'].apply(clean_text)\n",
    "df['clean_text']"
   ]
  },
  {
   "cell_type": "code",
   "execution_count": 14,
   "id": "53eb34c5-56ba-4a4e-86eb-2e087245b0e6",
   "metadata": {},
   "outputs": [],
   "source": [
    "# train test split \n",
    "from sklearn.model_selection import train_test_split\n",
    "\n",
    "X = df['clean_text'] \n",
    "y = df['label']\n",
    "\n",
    "X_train, X_test, y_train, y_test = train_test_split(X, y, test_size=0.2, random_state=42)\n",
    "\n"
   ]
  },
  {
   "cell_type": "code",
   "execution_count": 16,
   "id": "06891311-516a-4559-976c-d5c97eecabe9",
   "metadata": {},
   "outputs": [],
   "source": [
    "# TF-IDF Vectorization\n",
    "from sklearn.feature_extraction.text import TfidfVectorizer\n",
    "vectorizer = TfidfVectorizer(max_features=3000)\n",
    "X_train_vec = vectorizer.fit_transform(X_train)\n",
    "X_test_vec = vectorizer.transform(X_test)"
   ]
  },
  {
   "cell_type": "code",
   "execution_count": 22,
   "id": "39f0407c-ec4e-4260-84b1-549984277f24",
   "metadata": {},
   "outputs": [
    {
     "name": "stdout",
     "output_type": "stream",
     "text": [
      "<Compressed Sparse Row sparse matrix of dtype 'float64'\n",
      "\twith 34 stored elements and shape (5, 3000)>\n",
      "  Coords\tValues\n",
      "  (0, 1249)\t0.3789384102984926\n",
      "  (0, 278)\t0.42815095765489536\n",
      "  (0, 2439)\t0.24388376997185696\n",
      "  (0, 1638)\t0.35086960859234023\n",
      "  (0, 448)\t0.31708596401467487\n",
      "  (0, 2984)\t0.3205330291502031\n",
      "  (0, 1109)\t0.3223437439723238\n",
      "  (0, 1695)\t0.42815095765489536\n",
      "  (1, 188)\t0.2847937448772163\n",
      "  (1, 1081)\t0.3330881366540654\n",
      "  (1, 1303)\t0.29374459663310737\n",
      "  (1, 2459)\t0.3330881366540654\n",
      "  (1, 853)\t0.3330881366540654\n",
      "  (1, 1879)\t0.21096464777414695\n",
      "  (1, 1581)\t0.2847937448772163\n",
      "  (1, 1699)\t0.3330881366540654\n",
      "  (1, 2519)\t0.32154848171813794\n",
      "  (1, 421)\t0.3330881366540654\n",
      "  (1, 1862)\t0.22104550459662983\n",
      "  (2, 1050)\t0.6490412964782807\n",
      "  (2, 2210)\t0.5653960311493114\n",
      "  (2, 432)\t0.5089918697055971\n",
      "  (3, 1900)\t0.8856036114019864\n",
      "  (3, 1497)\t0.46444186231622053\n",
      "  (4, 1981)\t0.3468734505532593\n",
      "  (4, 16)\t0.30810263017581785\n",
      "  (4, 2427)\t0.34285979040461856\n",
      "  (4, 2282)\t0.2784148318821969\n",
      "  (4, 2737)\t0.3512365475355107\n",
      "  (4, 1924)\t0.31211629032445865\n",
      "  (4, 366)\t0.1667193791131364\n",
      "  (4, 1241)\t0.3512365475355107\n",
      "  (4, 498)\t0.31211629032445865\n",
      "  (4, 850)\t0.3468734505532593\n"
     ]
    }
   ],
   "source": [
    "print(X_train_vec[:5])"
   ]
  },
  {
   "cell_type": "code",
   "execution_count": 23,
   "id": "91ff87f4-8721-4355-b162-5ff6597f2175",
   "metadata": {},
   "outputs": [],
   "source": [
    "# model training - Naive bayes \n",
    "from sklearn.naive_bayes import MultinomialNB\n",
    "from sklearn.metrics import classification_report, confusion_matrix, accuracy_score\n",
    "model = MultinomialNB()\n",
    "model.fit(X_train_vec, y_train)\n",
    "\n",
    "y_pred = model.predict(X_test_vec)"
   ]
  },
  {
   "cell_type": "code",
   "execution_count": 26,
   "id": "29c40679-eb06-4bf5-b7c0-7aed9f0ff590",
   "metadata": {},
   "outputs": [
    {
     "name": "stdout",
     "output_type": "stream",
     "text": [
      "Accuracy: 0.9730941704035875\n",
      "\n",
      "Classification Report:\n",
      "               precision    recall  f1-score   support\n",
      "\n",
      "           0       0.97      1.00      0.98       965\n",
      "           1       1.00      0.80      0.89       150\n",
      "\n",
      "    accuracy                           0.97      1115\n",
      "   macro avg       0.98      0.90      0.94      1115\n",
      "weighted avg       0.97      0.97      0.97      1115\n",
      "\n",
      "\n",
      "Confusion Matrix:\n",
      " [[965   0]\n",
      " [ 30 120]]\n"
     ]
    }
   ],
   "source": [
    "print(\"Accuracy:\", accuracy_score(y_test, y_pred))\n",
    "print(\"\\nClassification Report:\\n\", classification_report(y_test, y_pred))\n",
    "cm = confusion_matrix(y_test, y_pred)\n",
    "print(\"\\nConfusion Matrix:\\n\", cm)\n"
   ]
  },
  {
   "cell_type": "code",
   "execution_count": 27,
   "id": "505914d4-c1b5-4b9d-b57e-ab68e4f3609d",
   "metadata": {},
   "outputs": [
    {
     "data": {
      "image/png": "[encoded data removed]",
      "text/plain": [
       "<Figure size 600x400 with 2 Axes>"
      ]
     },
     "metadata": {},
     "output_type": "display_data"
    }
   ],
   "source": [
    "import seaborn as sns\n",
    "import matplotlib.pyplot as plt\n",
    "from sklearn.metrics import confusion_matrix\n",
    "\n",
    "plt.figure(figsize = (6,4))\n",
    "sns.heatmap(cm, annot=True, fmt='d', cmap='Blues', xticklabels=['Ham', 'Spam'], yticklabels=['Ham', 'Spam'])\n",
    "plt.title(\"Confusion Matrix\")\n",
    "plt.xlabel(\"Predicted\")\n",
    "plt.ylabel(\"Actual\")\n",
    "plt.show()"
   ]
  },
  {
   "cell_type": "code",
   "execution_count": 29,
   "id": "a5fa6565-fdaa-4e37-a7fd-cc751cc3b2f9",
   "metadata": {},
   "outputs": [],
   "source": [
    "import pickle\n",
    "\n",
    "# Save the trained model and TF-IDF vectorizer\n",
    "pickle.dump(model, open('spam_model.pkl', 'wb'))\n",
    "pickle.dump(vectorizer, open('tfidf_vectorizer.pkl', 'wb'))\n"
   ]
  },
  {
   "cell_type": "code",
   "execution_count": null,
   "id": "7a307349-f80d-455b-9601-ef1c2d22cf54",
   "metadata": {},
   "outputs": [],
   "source": []
  }
 ],
 "metadata": {
  "kernelspec": {
   "display_name": "Python 3 (ipykernel)",
   "language": "python",
   "name": "python3"
  },
  "language_info": {
   "codemirror_mode": {
    "name": "ipython",
    "version": 3
   },
   "file_extension": ".py",
   "mimetype": "text/x-python",
   "name": "python",
   "nbconvert_exporter": "python",
   "pygments_lexer": "ipython3",
   "version": "3.13.5"
  }
 },
 "nbformat": 4,
 "nbformat_minor": 5
}
